{
 "cells": [
  {
   "cell_type": "markdown",
   "metadata": {},
   "source": [
    "# JWST Calibration Pipeline Build 7.3 for MIRI Team\n",
    "\n",
    "## Introduction\n",
    "\n",
    "This Jupyter book provides instructions on running the JWST Calibration Pipeline and individual pipeline steps. Information in this book is collated from the official JWST Calibration Pipeline documentation (see link below), MIRI CDP documentation, MIRI Team Wiki, etc. The goal is to provide information, user instructions, examples and issues for each pipeline and steps (except coronography). More detailed information on the pipeline can be found here:\n",
    "\n",
    "https://jwst-pipeline.readthedocs.io/en/latest/\n",
    "\n",
    "If you have or find any other issues installing and running the pipeline you can report them on the MIRICLE Bugzilla page (you need to have/set up a Bugzilla account) here:\n",
    "\n",
    "http://www.miricle.org/bugzilla/\n",
    "\n",
    "Select the 'Pipeline support' option in the component menu when filing the new report \n",
    "\n",
    "\n",
    "### Pipeline stages\n",
    "\n",
    "There are three different stages of processing for the JWST observing modes:\n",
    "\n",
    "- Stage 1: Detector-level corrections and ramp fitting for individual exposures\n",
    "\n",
    "- Stage 2: Instrument-mode calibrations for individual exposures\n",
    "\n",
    "- Stage 3: Combining data from multiple exposures within an observation\n",
    "\n",
    "Stage 1 corrections are applied nearly universally for all instruments and modes. Stage 2 is divided into separate modules for imaging and spectroscopic modes. Stage 3 is divided into five separate modules for imaging, spectroscopic, coronagraphic, Aperture Masking Interferometry (AMI), and Time Series Observation (TSO) modes.\n",
    "\n",
    "This book is split into chapters according to these stages and application to relevant MIRI modes.\n"
   ]
  },
  {
   "cell_type": "markdown",
   "metadata": {},
   "source": [
    "## Installation\n",
    "\n",
    "This book is specifically for Build 7.3 of the JWST Calibration Pipeline. To install this version you must have an Anaconda installation:\n",
    "\n",
    "https://www.anaconda.com/\n",
    "\n",
    "To install, open a terminal:\n",
    "\n",
    "```bash\n",
    "conda create -n jwst_env --file <URL>\n",
    "conda activate jwst_env\n",
    "```\n",
    "\n",
    "where `<URL>` is dependent on the operating system:\n",
    "    \n",
    "Linux: http://ssb.stsci.edu/releases/jwstdp/0.13.7/latest-linux\n",
    "\n",
    "OS X: http://ssb.stsci.edu/releases/jwstdp/0.13.7/latest-osx\n",
    "\n"
   ]
  },
  {
   "cell_type": "markdown",
   "metadata": {},
   "source": [
    "## Calibration Reference Data System (CRDS)\n",
    "\n",
    "The CRDS is the calibration file server for the JWST Calibration Pipeline. When running the pipeline, the calibration steps will use the `crds` task to fetch appropriate files from the CRDS and store them locally. Therefore, it is important that you have this setup correctly.\n",
    "\n",
    "### CRDS configuration\n",
    "\n",
    "To use the CRDS server, one must set the `CRDS_PATH` and `CRDS_SERVER_URL` environment variables which tell the `crds` task where to find and store the calibration files. Set these (e.g., in your bash login file): \n",
    "\n",
    "```bash\n",
    "export CRDS_PATH=/path/to/your/crds\n",
    "export CRDS_SERVER_URL=\"https://jwst-crds.stsci.edu\"\n",
    "```\n",
    "\n",
    "The reference file mapping is set using the `CRDS_CONTEXT` environment variable. For Build 7.3, this should be set to 535 and will contain the CRDS-ingested MIRI CDP7 files: \n",
    "\n",
    "```bash\n",
    "export CRDS_CONTEXT='jwst_0535.pmap'\n",
    "```\n",
    "\n",
    "Note that the calibration files can be large (~GB) and may take some time to download. However, the `crds` task will only fetch calibration files from the server if they are not on your system so they will only be downloaded once. Using the CRDS server will require the least amount of CRDS file storage on your system. "
   ]
  },
  {
   "cell_type": "code",
   "execution_count": null,
   "metadata": {},
   "outputs": [],
   "source": []
  }
 ],
 "metadata": {
  "kernelspec": {
   "display_name": "Python 3",
   "language": "python",
   "name": "python3"
  },
  "language_info": {
   "codemirror_mode": {
    "name": "ipython",
    "version": 3
   },
   "file_extension": ".py",
   "mimetype": "text/x-python",
   "name": "python",
   "nbconvert_exporter": "python",
   "pygments_lexer": "ipython3",
   "version": "3.6.5"
  }
 },
 "nbformat": 4,
 "nbformat_minor": 2
}
